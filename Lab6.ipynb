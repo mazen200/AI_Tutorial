{
  "nbformat": 4,
  "nbformat_minor": 0,
  "metadata": {
    "colab": {
      "provenance": [],
      "authorship_tag": "ABX9TyMS/C2E9RKTlFMfHqy0IXfl",
      "include_colab_link": true
    },
    "kernelspec": {
      "name": "python3",
      "display_name": "Python 3"
    },
    "language_info": {
      "name": "python"
    }
  },
  "cells": [
    {
      "cell_type": "markdown",
      "metadata": {
        "id": "view-in-github",
        "colab_type": "text"
      },
      "source": [
        "<a href=\"https://colab.research.google.com/github/mazen200/AI_Labs/blob/Lab6/Lab6.ipynb\" target=\"_parent\"><img src=\"https://colab.research.google.com/assets/colab-badge.svg\" alt=\"Open In Colab\"/></a>"
      ]
    },
    {
      "cell_type": "code",
      "execution_count": 29,
      "metadata": {
        "id": "CQQYEHLEkQQv"
      },
      "outputs": [],
      "source": [
        "import numpy as np\n",
        "import pandas as pd\n",
        "import seaborn as sns\n",
        "import matplotlib.pyplot as plt\n",
        "from sklearn import linear_model\n",
        "from sklearn import metrics\n",
        "from sklearn.model_selection import train_test_split\n",
        "from sklearn.preprocessing import LabelEncoder"
      ]
    },
    {
      "cell_type": "code",
      "source": [
        "data = pd.read_csv('/fifa22.csv')"
      ],
      "metadata": {
        "id": "ylzRq3CRlcgH"
      },
      "execution_count": 30,
      "outputs": []
    },
    {
      "cell_type": "code",
      "source": [
        "#Drop the rows that contain missing values\n",
        "data.dropna(how='any',inplace=True)\n",
        "print(\"summution of null\",data.isnull().sum())"
      ],
      "metadata": {
        "colab": {
          "base_uri": "https://localhost:8080/"
        },
        "id": "m9JCGuZxlkvx",
        "outputId": "5e6bc933-bbf3-4346-d5e1-f5e445dc5939"
      },
      "execution_count": 32,
      "outputs": [
        {
          "output_type": "stream",
          "name": "stdout",
          "text": [
            "summution of null Name               0\n",
            "Age                0\n",
            "Nationality        0\n",
            "Overall            0\n",
            "Potential          0\n",
            "Club               0\n",
            "Position           0\n",
            "Crossing           0\n",
            "Finishing          0\n",
            "HeadingAccuracy    0\n",
            "ShortPassing       0\n",
            "Volleys            0\n",
            "Dribbling          0\n",
            "Curve              0\n",
            "FKAccuracy         0\n",
            "LongPassing        0\n",
            "BallControl        0\n",
            "Acceleration       0\n",
            "SprintSpeed        0\n",
            "Agility            0\n",
            "Reactions          0\n",
            "Balance            0\n",
            "ShotPower          0\n",
            "Jumping            0\n",
            "Stamina            0\n",
            "Strength           0\n",
            "LongShots          0\n",
            "Aggression         0\n",
            "Interceptions      0\n",
            "Positioning        0\n",
            "Vision             0\n",
            "Penalties          0\n",
            "Composure          0\n",
            "Marking            0\n",
            "StandingTackle     0\n",
            "SlidingTackle      0\n",
            "GKDiving           0\n",
            "GKHandling         0\n",
            "GKKicking          0\n",
            "GKPositioning      0\n",
            "Value              0\n",
            "dtype: int64\n"
          ]
        }
      ]
    },
    {
      "cell_type": "code",
      "source": [
        "X=data.iloc[:,1:40] #Features\n",
        "Y=data['Value'] #Label\n",
        "cols=('Nationality','Club','Position')"
      ],
      "metadata": {
        "id": "BoJyE3MbmXF2"
      },
      "execution_count": 33,
      "outputs": []
    },
    {
      "cell_type": "code",
      "source": [
        "def Feature_Encoder(X,cols):\n",
        "    for c in cols:\n",
        "        lbl = LabelEncoder()\n",
        "        lbl.fit(list(X[c].values)) # nationality, club, position (convert them to numbers 0- nclass-1)\n",
        "        X[c] = lbl.transform(list(X[c].values))\n",
        "    return X"
      ],
      "metadata": {
        "id": "kCHSO_zZm2NX"
      },
      "execution_count": 34,
      "outputs": []
    },
    {
      "cell_type": "code",
      "source": [
        "X=Feature_Encoder(X,cols);"
      ],
      "metadata": {
        "id": "3gayNg8OvhS3"
      },
      "execution_count": 35,
      "outputs": []
    },
    {
      "cell_type": "code",
      "source": [
        "#Split the data to training and testing sets\n",
        "X_train, X_test, y_train, y_test = train_test_split(X, Y, test_size = 0.30,shuffle=True)"
      ],
      "metadata": {
        "id": "4-oBMaxMvtWX"
      },
      "execution_count": 36,
      "outputs": []
    },
    {
      "cell_type": "code",
      "source": [
        "cls = linear_model.LinearRegression()"
      ],
      "metadata": {
        "id": "CNE1ht4yvw0A"
      },
      "execution_count": 37,
      "outputs": []
    },
    {
      "cell_type": "code",
      "source": [
        "cls.fit(X_train,y_train)\n",
        "prediction= cls.predict(X_test)"
      ],
      "metadata": {
        "id": "IWoSofkNv0PG"
      },
      "execution_count": 38,
      "outputs": []
    },
    {
      "cell_type": "code",
      "source": [
        "print('Co-efficient of linear regression',cls.coef_)\n",
        "print('Intercept of linear regression model',cls.intercept_)\n",
        "print('Mean Square Error', metrics.mean_squared_error(np.asarray(y_test), prediction))"
      ],
      "metadata": {
        "colab": {
          "base_uri": "https://localhost:8080/"
        },
        "id": "MBkgXAKkv3jV",
        "outputId": "ceb906ae-ff92-4bde-f097-0a12c1835dd2"
      },
      "execution_count": 40,
      "outputs": [
        {
          "output_type": "stream",
          "name": "stdout",
          "text": [
            "Co-efficient of linear regression [-2.88362984e-01 -1.24905244e-03  5.82296670e-01  5.82532064e-02\n",
            "  3.73855574e-04 -1.57101728e-02 -6.13971789e-03  1.83481692e-02\n",
            " -1.14549268e-02 -1.44754310e-02  3.32756147e-02 -1.64346126e-02\n",
            "  1.19459080e-03  1.15005097e-02  5.02452291e-03 -3.94945394e-02\n",
            " -2.01222039e-03 -6.99482724e-03 -2.51138221e-02  5.40952096e-02\n",
            "  1.52210128e-02 -2.42078727e-02 -1.36493070e-03 -3.59773513e-03\n",
            " -1.08598097e-02 -2.13352444e-02 -5.00339237e-03 -9.30971582e-03\n",
            "  1.36512210e-02  2.21390544e-02  1.91312903e-03  9.72412171e-03\n",
            "  9.25677462e-03 -1.57244293e-03 -4.29022498e-03 -2.86759537e-03\n",
            " -2.01334535e-02  2.34528912e-03 -2.72974526e-02]\n",
            "Intercept of linear regression model -30.97013559358425\n",
            "Mean Square Error 14.552454297855556\n"
          ]
        }
      ]
    },
    {
      "cell_type": "code",
      "source": [
        "true_player_value=np.asarray(y_test)[0]\n",
        "predicted_player_value=prediction[0]"
      ],
      "metadata": {
        "id": "9R1wI0New2dp"
      },
      "execution_count": 41,
      "outputs": []
    },
    {
      "cell_type": "code",
      "source": [
        "print('True value for the first player in the test set in millions is : ' + str(true_player_value))\n",
        "print('Predicted value for the first player in the test set in millions is : ' + str(predicted_player_value))"
      ],
      "metadata": {
        "colab": {
          "base_uri": "https://localhost:8080/"
        },
        "id": "Q5GxnkJ-w67p",
        "outputId": "94c42a30-6930-4f07-e12c-f6153762e787"
      },
      "execution_count": 42,
      "outputs": [
        {
          "output_type": "stream",
          "name": "stdout",
          "text": [
            "True value for the first player in the test set in millions is : 19.5\n",
            "Predicted value for the first player in the test set in millions is : 12.321740832484306\n"
          ]
        }
      ]
    }
  ]
}